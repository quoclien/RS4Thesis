{
  "nbformat": 4,
  "nbformat_minor": 0,
  "metadata": {
    "colab": {
      "name": "Content-based filter.ipynb",
      "provenance": [],
      "authorship_tag": "ABX9TyNffWqSM24INjIY6cc9x+rG",
      "include_colab_link": true
    },
    "kernelspec": {
      "name": "python3",
      "display_name": "Python 3"
    },
    "language_info": {
      "name": "python"
    },
    "accelerator": "GPU"
  },
  "cells": [
    {
      "cell_type": "markdown",
      "metadata": {
        "id": "view-in-github",
        "colab_type": "text"
      },
      "source": [
        "<a href=\"https://colab.research.google.com/github/kelvinlien/RS4Thesis/blob/notebooks/python%5Cnotebook%5Ctext%5CContent_based_filter.ipynb\" target=\"_parent\"><img src=\"https://colab.research.google.com/assets/colab-badge.svg\" alt=\"Open In Colab\"/></a>"
      ]
    },
    {
      "cell_type": "code",
      "metadata": {
        "id": "5J1lX2Z5kCkF",
        "colab": {
          "base_uri": "https://localhost:8080/"
        },
        "outputId": "f7a72fdc-2038-45f3-a671-95dab226b637"
      },
      "source": [
        "# Import neccessary libraies\n",
        "import os\n",
        "import json\n",
        "import gzip\n",
        "import pandas as pd\n",
        "from urllib.request import urlopen\n",
        "import re\n",
        "import numpy as np\n",
        "import nltk\n",
        "from nltk.corpus import stopwords\n",
        "nltk.download('stopwords')\n",
        "from sklearn.metrics.pairwise import linear_kernel\n",
        "from sklearn.feature_extraction.text import CountVectorizer\n",
        "from sklearn.feature_extraction.text import TfidfVectorizer\n",
        "from nltk.tokenize import RegexpTokenizer\n",
        "from sklearn.metrics.pairwise import cosine_similarity"
      ],
      "execution_count": 8,
      "outputs": [
        {
          "output_type": "stream",
          "text": [
            "[nltk_data] Downloading package stopwords to /root/nltk_data...\n",
            "[nltk_data]   Package stopwords is already up-to-date!\n"
          ],
          "name": "stdout"
        }
      ]
    },
    {
      "cell_type": "code",
      "metadata": {
        "colab": {
          "base_uri": "https://localhost:8080/"
        },
        "id": "_WofoWayntxP",
        "outputId": "f8ddfa4a-7af9-445e-e102-ac5d8fc75b90"
      },
      "source": [
        "!wget http://deepyeti.ucsd.edu/jianmo/amazon/metaFiles/meta_Software.json.gz"
      ],
      "execution_count": 9,
      "outputs": [
        {
          "output_type": "stream",
          "text": [
            "--2021-04-17 10:56:17--  http://deepyeti.ucsd.edu/jianmo/amazon/metaFiles/meta_Software.json.gz\n",
            "Resolving deepyeti.ucsd.edu (deepyeti.ucsd.edu)... 169.228.63.50\n",
            "Connecting to deepyeti.ucsd.edu (deepyeti.ucsd.edu)|169.228.63.50|:80... connected.\n",
            "HTTP request sent, awaiting response... 200 OK\n",
            "Length: 15033606 (14M) [application/octet-stream]\n",
            "Saving to: ‘meta_Software.json.gz.5’\n",
            "\n",
            "meta_Software.json. 100%[===================>]  14.34M  8.65MB/s    in 1.7s    \n",
            "\n",
            "2021-04-17 10:56:19 (8.65 MB/s) - ‘meta_Software.json.gz.5’ saved [15033606/15033606]\n",
            "\n"
          ],
          "name": "stdout"
        }
      ]
    },
    {
      "cell_type": "code",
      "metadata": {
        "colab": {
          "base_uri": "https://localhost:8080/"
        },
        "id": "oLZEuEXWpFxK",
        "outputId": "e4ab2557-e15a-453b-ea77-9b8825f0f927"
      },
      "source": [
        "### load the meta data\n",
        "\n",
        "data = []\n",
        "with gzip.open('meta_Software.json.gz') as f:\n",
        "    for l in f:\n",
        "        data.append(json.loads(l.strip()))\n",
        "    \n",
        "# total length of list, this number equals total number of products\n",
        "print(len(data))\n",
        "\n",
        "# first row of the list\n",
        "print(data[7])"
      ],
      "execution_count": 10,
      "outputs": [
        {
          "output_type": "stream",
          "text": [
            "26790\n",
            "{'category': [], 'tech1': '', 'description': ['<i>Living with Arts </i> approach to art appreciation supports students acquisition of the essential skills of the course. Mark Getleins vivid narrative, in concert with McGraw-Hills powerful adaptive learning program LearnSmart and CONNECT Art, helps students <b>understand </b>, <b>analyze </b>, and <b>appreciate </b> the ways art work communicates to us in our visual world. In doing so, <i>Living with Art </i> provides the foundation for a life-long appreciation of art, and critical thinking skills that will benefit students far beyond the classroom into their chosen careers. Students are invited to actively join in the discussion from Chapter 1. The narrative engages them in the stories of art, while the integrated digital assessments challenge them to build a fluency in the core vocabulary of the course, practice applying it in guided writing assignments, and ultimately prepare for active class participation and success on critical analysis, studio, and museum assignments. The result is greater engagement and greater course success.', \"Mark Getlein arrived in New York to pursue advanced music studies at the Juilliard School, but he quickly became equally fascinated by the city's vibrant downtown art scene and magnificent museum collections. For a decade or so he led an interesting but precarious life as a pianist and painter. As a writer and development editor, he has helped to create a series of ground-breaking college textbooks in art and literature, including <i>Art History</i> (Abrams, 1995), <i>A History of Art in Africa</i> (Abrams, 2001), <i>The HarperCollins World Reader</i>, <i>The Longman Anthology of British Literature</i>, and <i>The Longman Anthology of World Literature</i>. This is his fourth edition as author of <i>Living with Art</i>.\", '', ''], 'fit': '', 'title': 'Connect Art with McGraw-Hill LearnSmart Access Card for Living with Art', 'also_buy': [], 'image': ['https://images-na.ssl-images-amazon.com/images/I/51kVXhrJ8jL._SX38_SY50_CR,0,0,38,50_.jpg'], 'tech2': '', 'brand': 'McGraw-Hill Humanities/Social Sciences/Languages', 'feature': [], 'rank': '11,081 in Software (', 'also_view': [], 'main_cat': 'Software', 'similar_item': '', 'date': '</div>', 'price': '', 'asin': '0077410297'}\n"
          ],
          "name": "stdout"
        }
      ]
    },
    {
      "cell_type": "code",
      "metadata": {
        "id": "v9hit3FvuKQo",
        "colab": {
          "base_uri": "https://localhost:8080/"
        },
        "outputId": "c6481b4d-670b-4047-c532-3bf608bf0d63"
      },
      "source": [
        "# convert list into pandas dataframe\n",
        "\n",
        "df = pd.DataFrame.from_dict(data)\n",
        "\n",
        "print(len(df))"
      ],
      "execution_count": 11,
      "outputs": [
        {
          "output_type": "stream",
          "text": [
            "26790\n"
          ],
          "name": "stdout"
        }
      ]
    },
    {
      "cell_type": "code",
      "metadata": {
        "id": "pVtmd6wUAeNd"
      },
      "source": [
        "#Text Preprocessing\n",
        "def _removeNonAscii(s):\n",
        "    return \"\".join(i for i in s if  ord(i)<128)\n",
        "\n",
        "def make_lower_case(text):\n",
        "    return text.lower()\n",
        "\n",
        "def remove_stop_words(text):\n",
        "    text = text.split()\n",
        "    stops = set(stopwords.words(\"english\"))\n",
        "    text = [w for w in text if not w in stops]\n",
        "    text = \" \".join(text)\n",
        "    return text\n",
        "\n",
        "def remove_html(text):\n",
        "    html_pattern = re.compile('<.*?>')\n",
        "    return html_pattern.sub(r'', text)\n",
        "\n",
        "def remove_punctuation(text):\n",
        "    tokenizer = RegexpTokenizer(r'\\w+')\n",
        "    text = tokenizer.tokenize(text)\n",
        "    text = \" \".join(text)\n",
        "    return text"
      ],
      "execution_count": 12,
      "outputs": []
    },
    {
      "cell_type": "code",
      "metadata": {
        "id": "yM4VbJ9_OnwT",
        "colab": {
          "base_uri": "https://localhost:8080/",
          "height": 1000
        },
        "outputId": "6ea21d90-2fa1-46be-d679-cef388180e68"
      },
      "source": [
        "# Apply preprocess functions\n",
        "target = \"description\"\n",
        "df[target] = df[target].astype(\"string\")\n",
        "df[target] = df[target].apply(_removeNonAscii)\n",
        "df[target] = df[target].apply(func = make_lower_case)\n",
        "df[target] = df[target].apply(func = remove_stop_words)\n",
        "df[target] = df[target].apply(func=remove_punctuation)\n",
        "df[target] = df[target].apply(func=remove_html)\n",
        "df"
      ],
      "execution_count": 13,
      "outputs": [
        {
          "output_type": "execute_result",
          "data": {
            "text/html": [
              "<div>\n",
              "<style scoped>\n",
              "    .dataframe tbody tr th:only-of-type {\n",
              "        vertical-align: middle;\n",
              "    }\n",
              "\n",
              "    .dataframe tbody tr th {\n",
              "        vertical-align: top;\n",
              "    }\n",
              "\n",
              "    .dataframe thead th {\n",
              "        text-align: right;\n",
              "    }\n",
              "</style>\n",
              "<table border=\"1\" class=\"dataframe\">\n",
              "  <thead>\n",
              "    <tr style=\"text-align: right;\">\n",
              "      <th></th>\n",
              "      <th>category</th>\n",
              "      <th>tech1</th>\n",
              "      <th>description</th>\n",
              "      <th>fit</th>\n",
              "      <th>title</th>\n",
              "      <th>also_buy</th>\n",
              "      <th>image</th>\n",
              "      <th>tech2</th>\n",
              "      <th>brand</th>\n",
              "      <th>feature</th>\n",
              "      <th>rank</th>\n",
              "      <th>also_view</th>\n",
              "      <th>main_cat</th>\n",
              "      <th>similar_item</th>\n",
              "      <th>date</th>\n",
              "      <th>price</th>\n",
              "      <th>asin</th>\n",
              "      <th>details</th>\n",
              "    </tr>\n",
              "  </thead>\n",
              "  <tbody>\n",
              "    <tr>\n",
              "      <th>0</th>\n",
              "      <td>[]</td>\n",
              "      <td></td>\n",
              "      <td></td>\n",
              "      <td></td>\n",
              "      <td>HOLT PHYSICS LESSON PRESENTATION CD-ROM QUICK ...</td>\n",
              "      <td>[]</td>\n",
              "      <td>[]</td>\n",
              "      <td></td>\n",
              "      <td>HOLT. RINEHART AND WINSTON</td>\n",
              "      <td>[]</td>\n",
              "      <td>25,550 in Software (</td>\n",
              "      <td>[]</td>\n",
              "      <td>Software</td>\n",
              "      <td></td>\n",
              "      <td>&lt;/div&gt;</td>\n",
              "      <td>.a-box-inner{background-color:#fff}#alohaBuyBo...</td>\n",
              "      <td>0030672120</td>\n",
              "      <td>NaN</td>\n",
              "    </tr>\n",
              "    <tr>\n",
              "      <th>1</th>\n",
              "      <td>[]</td>\n",
              "      <td></td>\n",
              "      <td>b latin rhythms get kids singing spanish b i s...</td>\n",
              "      <td></td>\n",
              "      <td>Sing, Watch, &amp;amp; Learn Spanish (DVD + Guide)...</td>\n",
              "      <td>[]</td>\n",
              "      <td>[https://images-na.ssl-images-amazon.com/image...</td>\n",
              "      <td></td>\n",
              "      <td>McGraw Hill</td>\n",
              "      <td>[]</td>\n",
              "      <td>15,792 in Software (</td>\n",
              "      <td>[]</td>\n",
              "      <td>Software</td>\n",
              "      <td></td>\n",
              "      <td>&lt;/div&gt;</td>\n",
              "      <td></td>\n",
              "      <td>0071480935</td>\n",
              "      <td>NaN</td>\n",
              "    </tr>\n",
              "    <tr>\n",
              "      <th>2</th>\n",
              "      <td>[]</td>\n",
              "      <td></td>\n",
              "      <td>b connect integrated learning system empowers ...</td>\n",
              "      <td></td>\n",
              "      <td>Connect with LearnSmart Access Card for Microb...</td>\n",
              "      <td>[]</td>\n",
              "      <td>[https://images-na.ssl-images-amazon.com/image...</td>\n",
              "      <td></td>\n",
              "      <td>McGraw-Hill Science/Engineering/Math</td>\n",
              "      <td>[]</td>\n",
              "      <td>16,900 in Software (</td>\n",
              "      <td>[]</td>\n",
              "      <td>Software</td>\n",
              "      <td></td>\n",
              "      <td>&lt;/div&gt;</td>\n",
              "      <td></td>\n",
              "      <td>007329506X</td>\n",
              "      <td>NaN</td>\n",
              "    </tr>\n",
              "    <tr>\n",
              "      <th>3</th>\n",
              "      <td>[]</td>\n",
              "      <td></td>\n",
              "      <td></td>\n",
              "      <td></td>\n",
              "      <td>LearnSmart Standalone Access Card for Prescott...</td>\n",
              "      <td>[]</td>\n",
              "      <td>[https://images-na.ssl-images-amazon.com/image...</td>\n",
              "      <td></td>\n",
              "      <td>McGraw-Hill Education</td>\n",
              "      <td>[]</td>\n",
              "      <td>12,986 in Software (</td>\n",
              "      <td>[]</td>\n",
              "      <td>Software</td>\n",
              "      <td></td>\n",
              "      <td>&lt;/div&gt;</td>\n",
              "      <td></td>\n",
              "      <td>0073513458</td>\n",
              "      <td>NaN</td>\n",
              "    </tr>\n",
              "    <tr>\n",
              "      <th>4</th>\n",
              "      <td>[]</td>\n",
              "      <td></td>\n",
              "      <td>i anatomy amp physiology revealed cat i ultima...</td>\n",
              "      <td></td>\n",
              "      <td>Anatomy &amp;amp; Physiology Revealed Student Acce...</td>\n",
              "      <td>[0323394612, 0323227937, 1118527488]</td>\n",
              "      <td>[https://images-na.ssl-images-amazon.com/image...</td>\n",
              "      <td></td>\n",
              "      <td>McGraw-Hill Education</td>\n",
              "      <td>[]</td>\n",
              "      <td>14,861 in Software (</td>\n",
              "      <td>[]</td>\n",
              "      <td>Software</td>\n",
              "      <td></td>\n",
              "      <td>&lt;/div&gt;</td>\n",
              "      <td>$4.83</td>\n",
              "      <td>0073525758</td>\n",
              "      <td>NaN</td>\n",
              "    </tr>\n",
              "    <tr>\n",
              "      <th>...</th>\n",
              "      <td>...</td>\n",
              "      <td>...</td>\n",
              "      <td>...</td>\n",
              "      <td>...</td>\n",
              "      <td>...</td>\n",
              "      <td>...</td>\n",
              "      <td>...</td>\n",
              "      <td>...</td>\n",
              "      <td>...</td>\n",
              "      <td>...</td>\n",
              "      <td>...</td>\n",
              "      <td>...</td>\n",
              "      <td>...</td>\n",
              "      <td>...</td>\n",
              "      <td>...</td>\n",
              "      <td>...</td>\n",
              "      <td>...</td>\n",
              "      <td>...</td>\n",
              "    </tr>\n",
              "    <tr>\n",
              "      <th>26785</th>\n",
              "      <td>[Software, Children's]</td>\n",
              "      <td></td>\n",
              "      <td>b features b br 1 beautiful fabulously detaile...</td>\n",
              "      <td></td>\n",
              "      <td>925 Sterling Silver Angel Wings Heart Pendant ...</td>\n",
              "      <td>[B07B4B12JX, B008UX1WJ2]</td>\n",
              "      <td>[https://images-na.ssl-images-amazon.com/image...</td>\n",
              "      <td></td>\n",
              "      <td>17maimeng</td>\n",
              "      <td>[Material: Guaranteed 100% Real Silver+Platinu...</td>\n",
              "      <td>1,389,844 in Clothing, Shoes &amp; Jewelry (</td>\n",
              "      <td>[B008UX1WJ2, B0094JVCKU, B077J3DR69, B07J4Z659...</td>\n",
              "      <td>&lt;img src=\"https://images-na.ssl-images-amazon....</td>\n",
              "      <td></td>\n",
              "      <td>17maimeng</td>\n",
              "      <td>$24.00</td>\n",
              "      <td>B01HEFZJC2</td>\n",
              "      <td>{}</td>\n",
              "    </tr>\n",
              "    <tr>\n",
              "      <th>26786</th>\n",
              "      <td>[Software, Children's, Material: Guaranteed 10...</td>\n",
              "      <td></td>\n",
              "      <td>b features b br 1 beautiful fabulously detaile...</td>\n",
              "      <td></td>\n",
              "      <td>925 Sterling Silver Love Heart Opal Pendant Ne...</td>\n",
              "      <td>[]</td>\n",
              "      <td>[https://images-na.ssl-images-amazon.com/image...</td>\n",
              "      <td></td>\n",
              "      <td>17maimeng</td>\n",
              "      <td>[Material: Guaranteed 100% Real Silver+Platinu...</td>\n",
              "      <td>1,469,307 in Clothing, Shoes &amp; Jewelry (</td>\n",
              "      <td>[B074M486S8, B01D4H965K, B077L7GGF4, B019D8X0W...</td>\n",
              "      <td>&lt;img src=\"https://images-na.ssl-images-amazon....</td>\n",
              "      <td></td>\n",
              "      <td>17maimeng</td>\n",
              "      <td>$23.20</td>\n",
              "      <td>B01HEFZKEE</td>\n",
              "      <td>{}</td>\n",
              "    </tr>\n",
              "    <tr>\n",
              "      <th>26787</th>\n",
              "      <td>[Software, Digital Software, Antivirus &amp; Secur...</td>\n",
              "      <td></td>\n",
              "      <td>div mac internet security x9 contains two best...</td>\n",
              "      <td></td>\n",
              "      <td>Intego Mac Internet Security X9 - 1 Mac - 1 ye...</td>\n",
              "      <td>[]</td>\n",
              "      <td>[]</td>\n",
              "      <td></td>\n",
              "      <td>Intego</td>\n",
              "      <td>[Award-winning antivirus software to protect a...</td>\n",
              "      <td>2,733 in Software (</td>\n",
              "      <td>[B01MF5MTWP, B015724B8M, B07CYFFH4H, B07CY54KL...</td>\n",
              "      <td>Software</td>\n",
              "      <td></td>\n",
              "      <td>&lt;/div&gt;</td>\n",
              "      <td>$39.99</td>\n",
              "      <td>B01HF3G4BS</td>\n",
              "      <td>{'Downloading:': 'Currently, this item is avai...</td>\n",
              "    </tr>\n",
              "    <tr>\n",
              "      <th>26788</th>\n",
              "      <td>[]</td>\n",
              "      <td></td>\n",
              "      <td>versacheck x9 quickbooks 2016 dna secure 100 c...</td>\n",
              "      <td></td>\n",
              "      <td>VersaCheck X9 Small and Medium Business 2016 3...</td>\n",
              "      <td>[]</td>\n",
              "      <td>[]</td>\n",
              "      <td></td>\n",
              "      <td>Diversified Productivity Solutions Ltd</td>\n",
              "      <td>[]</td>\n",
              "      <td>15,575 in Software (</td>\n",
              "      <td>[]</td>\n",
              "      <td>Software</td>\n",
              "      <td></td>\n",
              "      <td>&lt;/div&gt;</td>\n",
              "      <td>$24.39</td>\n",
              "      <td>B01HF41TKI</td>\n",
              "      <td>{'Shipping Weight:': '1.3 pounds', 'ASIN:': 'B...</td>\n",
              "    </tr>\n",
              "    <tr>\n",
              "      <th>26789</th>\n",
              "      <td>[Software, Lifestyle &amp; Hobbies, Home Publishin...</td>\n",
              "      <td></td>\n",
              "      <td>thank interest volume one warkel graphics cnc ...</td>\n",
              "      <td></td>\n",
              "      <td>CNC Designs - Vector Graphics for Computer Con...</td>\n",
              "      <td>[B01FBH8Q0C, B01HJ9UFVS, B00HC98K2C, B06XMXH44...</td>\n",
              "      <td>[https://images-na.ssl-images-amazon.com/image...</td>\n",
              "      <td></td>\n",
              "      <td>WarkelGraphics</td>\n",
              "      <td>[Smooth Vector Images with Low Node Count]</td>\n",
              "      <td>7,721 in Software (</td>\n",
              "      <td>[B01FBH8Q0C, B06XMXH44C, B00B7AUJC6, B0755P7LY...</td>\n",
              "      <td>Software</td>\n",
              "      <td></td>\n",
              "      <td>&lt;/div&gt;</td>\n",
              "      <td></td>\n",
              "      <td>B01HJAMWOK</td>\n",
              "      <td>{'Shipping Weight:': '6.1 ounces', 'ASIN:': 'B...</td>\n",
              "    </tr>\n",
              "  </tbody>\n",
              "</table>\n",
              "<p>26790 rows × 18 columns</p>\n",
              "</div>"
            ],
            "text/plain": [
              "                                                category  ...                                            details\n",
              "0                                                     []  ...                                                NaN\n",
              "1                                                     []  ...                                                NaN\n",
              "2                                                     []  ...                                                NaN\n",
              "3                                                     []  ...                                                NaN\n",
              "4                                                     []  ...                                                NaN\n",
              "...                                                  ...  ...                                                ...\n",
              "26785                             [Software, Children's]  ...                                                 {}\n",
              "26786  [Software, Children's, Material: Guaranteed 10...  ...                                                 {}\n",
              "26787  [Software, Digital Software, Antivirus & Secur...  ...  {'Downloading:': 'Currently, this item is avai...\n",
              "26788                                                 []  ...  {'Shipping Weight:': '1.3 pounds', 'ASIN:': 'B...\n",
              "26789  [Software, Lifestyle & Hobbies, Home Publishin...  ...  {'Shipping Weight:': '6.1 ounces', 'ASIN:': 'B...\n",
              "\n",
              "[26790 rows x 18 columns]"
            ]
          },
          "metadata": {
            "tags": []
          },
          "execution_count": 13
        }
      ]
    },
    {
      "cell_type": "code",
      "metadata": {
        "id": "qUrS_sTpOv6y"
      },
      "source": [
        "#Building TFIDF model and calculate TFIDF score\n",
        "tfidf = TfidfVectorizer(analyzer='word', ngram_range=(1, 3), min_df = 5, stop_words='english')\n",
        "tfidf_matrix = tfidf.fit_transform(df[target])"
      ],
      "execution_count": 14,
      "outputs": []
    },
    {
      "cell_type": "code",
      "metadata": {
        "colab": {
          "base_uri": "https://localhost:8080/"
        },
        "id": "zJRhMZygO7-X",
        "outputId": "0878cb7a-03ee-4cd2-de1c-2b73dcf3ec34"
      },
      "source": [
        "# Calculating the similarity measures based on Cosine Similarity\n",
        "sg = cosine_similarity(tfidf_matrix, tfidf_matrix)\n",
        "sg"
      ],
      "execution_count": 15,
      "outputs": [
        {
          "output_type": "execute_result",
          "data": {
            "text/plain": [
              "array([[0.00000000e+00, 0.00000000e+00, 0.00000000e+00, ...,\n",
              "        0.00000000e+00, 0.00000000e+00, 0.00000000e+00],\n",
              "       [0.00000000e+00, 1.00000000e+00, 2.71302237e-03, ...,\n",
              "        2.41469958e-03, 0.00000000e+00, 0.00000000e+00],\n",
              "       [0.00000000e+00, 2.71302237e-03, 1.00000000e+00, ...,\n",
              "        6.18183294e-04, 0.00000000e+00, 5.39984030e-03],\n",
              "       ...,\n",
              "       [0.00000000e+00, 2.41469958e-03, 6.18183294e-04, ...,\n",
              "        1.00000000e+00, 3.56642896e-02, 9.99592916e-03],\n",
              "       [0.00000000e+00, 0.00000000e+00, 0.00000000e+00, ...,\n",
              "        3.56642896e-02, 1.00000000e+00, 6.20719116e-03],\n",
              "       [0.00000000e+00, 0.00000000e+00, 5.39984030e-03, ...,\n",
              "        9.99592916e-03, 6.20719116e-03, 1.00000000e+00]])"
            ]
          },
          "metadata": {
            "tags": []
          },
          "execution_count": 15
        }
      ]
    },
    {
      "cell_type": "code",
      "metadata": {
        "id": "hn6Lt208a0HW"
      },
      "source": [
        "results = {}\n",
        "for idx, row in df.iterrows():\n",
        "    similar_indices = sg[idx].argsort()[:-100:-1]\n",
        "    similar_items = [(sg[idx][i], df['title'][i]) for i in similar_indices]\n",
        "\n",
        "    # First item is the item itself, so remove it.\n",
        "    # Each dictionary entry is like: [(1,2), (3,4)], with each tuple being (score, item_id)\n",
        "    results[row['title']] = similar_items[1:]"
      ],
      "execution_count": 16,
      "outputs": []
    },
    {
      "cell_type": "code",
      "metadata": {
        "id": "oF6vXw7ba5B2"
      },
      "source": [
        "def item(title):\n",
        "    return df.loc[df['title'] == title][\"title\"].tolist()[0].split(' - ')[0]"
      ],
      "execution_count": 17,
      "outputs": []
    },
    {
      "cell_type": "code",
      "metadata": {
        "id": "qJE81xIxa71k"
      },
      "source": [
        "# Top 5 recommendation\n",
        "def recommend(title, num):\n",
        "    print(\"Recommending \" + str(num) + \" products similar to \" + item(title) + \"...\")\n",
        "    print(\"-------\")\n",
        "    recs = results[title][:num]\n",
        "    for rec in recs:\n",
        "        print(\"Recommended: \" + item(rec[1]) + \" (score:\" + str(rec[0]) + \")\")"
      ],
      "execution_count": 18,
      "outputs": []
    },
    {
      "cell_type": "code",
      "metadata": {
        "colab": {
          "base_uri": "https://localhost:8080/"
        },
        "id": "VO6O2e2ma-yZ",
        "outputId": "e62cc9e2-3da7-4692-f09e-b78116500435"
      },
      "source": [
        "recommend(title=\"Connect Art with McGraw-Hill LearnSmart Access Card for Living with Art\", num=5)"
      ],
      "execution_count": 19,
      "outputs": [
        {
          "output_type": "stream",
          "text": [
            "Recommending 5 products similar to Connect Art with McGraw-Hill LearnSmart Access Card for Living with Art...\n",
            "-------\n",
            "Recommended: Connect Art with McGraw-Hill LearnSmart Access Card for Living with Art (score:1.0000000000000002)\n",
            "Recommended: JumpStart Artist (score:0.21999633446673098)\n",
            "Recommended: JumpStart Artist (score:0.21999633446673098)\n",
            "Recommended: Art (DVD) (PC &amp; Mac) [Old Version] (score:0.20643395795384933)\n",
            "Recommended: SUMMITSOFT Clip Art Editor ( Windows ) (score:0.1920555003219637)\n"
          ],
          "name": "stdout"
        }
      ]
    }
  ]
}